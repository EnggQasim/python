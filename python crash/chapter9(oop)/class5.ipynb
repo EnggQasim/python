{
 "cells": [
  {
   "cell_type": "code",
   "execution_count": 1,
   "metadata": {
    "collapsed": true
   },
   "outputs": [],
   "source": [
    "#Listing 9.1\n",
    "class Dog():\n",
    "    # A simple attempt to model a dog\n",
    "    \n",
    "    def __init__(self, name, age):\n",
    "        #Initialize name and age attributes.\n",
    "        self.name = name\n",
    "        self.age = age\n",
    "        \n",
    "    def sit(self):\n",
    "        #Simulate a dog sitting in response to a command\n",
    "        print(self.name.title() + \" in now sitting.\")\n",
    "        \n",
    "    def roll_over(self):\n",
    "        #Simulate rolling over in response to command\n",
    "        print(self.name.title() + \" rolled over!\")\n",
    "    "
   ]
  },
  {
   "cell_type": "code",
   "execution_count": 2,
   "metadata": {
    "collapsed": false
   },
   "outputs": [
    {
     "name": "stdout",
     "output_type": "stream",
     "text": [
      "dog's name is Willie.\n",
      "My dog is 6 years old.\n"
     ]
    }
   ],
   "source": [
    "#Listing 9.2\n",
    "my_dog = Dog('willie', 6)\n",
    "\n",
    "print(\"dog's name is \" + my_dog.name.title()+\".\")\n",
    "print(\"My dog is \"+str(my_dog.age)+\" years old.\")"
   ]
  },
  {
   "cell_type": "code",
   "execution_count": 3,
   "metadata": {
    "collapsed": false
   },
   "outputs": [
    {
     "name": "stdout",
     "output_type": "stream",
     "text": [
      "Willie in now sitting.\n",
      "Willie rolled over!\n"
     ]
    }
   ],
   "source": [
    "my_dog.sit()\n",
    "my_dog.roll_over()"
   ]
  },
  {
   "cell_type": "code",
   "execution_count": 4,
   "metadata": {
    "collapsed": false
   },
   "outputs": [
    {
     "name": "stdout",
     "output_type": "stream",
     "text": [
      "My dog's is Willie.\n",
      "My dog is 6 years old.\n",
      "Willie in now sitting.\n",
      "\n",
      "Your dog's name is Lucky.\n",
      "your dog is 3 years old.\n",
      "Lucky in now sitting.\n"
     ]
    }
   ],
   "source": [
    "my_dog = Dog('willie', 6)\n",
    "your_dog = Dog('lucky', 3)\n",
    "\n",
    "print(\"My dog's is \" +my_dog.name.title()+\".\")\n",
    "print(\"My dog is \"+str(my_dog.age)+\" years old.\")\n",
    "my_dog.sit()\n",
    "print(\"\\nYour dog's name is \"+your_dog.name.title()+\".\")\n",
    "print(\"your dog is \"+str(your_dog.age)+\" years old.\")\n",
    "your_dog.sit()"
   ]
  },
  {
   "cell_type": "markdown",
   "metadata": {},
   "source": [
    "# Try It Yourself\n",
    "9-1. Restaurant: Make a class called Restaurant. The __init__() method for\n",
    "Restaurant should store two attributes: a restaurant_name and a cuisine_type.\n",
    "Make a method called describe_restaurant() that prints these two pieces of\n",
    "information, and a method called open_restaurant() that prints a message indicating\n",
    "that the restaurant is open.\n",
    "Make an instance called restaurant from your class. Print the two attributes\n",
    "individually, and then call both methods.\n",
    "9-2. Three Restaurants: Start with your class from Exercise 9-1. Create three\n",
    "different instances from the class, and call describe_restaurant() for each\n",
    "instance.\n",
    "9-3. Users: Make a class called User. Create two attributes called first_name\n",
    "and last_name, and then create several other attributes that are typically stored\n",
    "in a user profile. Make a method called describe_user() that prints a summary\n",
    "of the user’s information. Make another method called greet_user() that prints\n",
    "a personalized greeting to the user.\n",
    "Create several instances representing different users, and call both methods\n",
    "for each user"
   ]
  },
  {
   "cell_type": "code",
   "execution_count": 5,
   "metadata": {
    "collapsed": false,
    "scrolled": true
   },
   "outputs": [
    {
     "name": "stdout",
     "output_type": "stream",
     "text": [
      "Print Name Pizza Hat\n",
      "print cuisine type Flower Them\n",
      "Restauant name: Pizza Hat and cuisine type is Flower them\n",
      "Indicating that the restaurant is open\n"
     ]
    },
    {
     "data": {
      "text/plain": [
       "''"
      ]
     },
     "execution_count": 5,
     "metadata": {},
     "output_type": "execute_result"
    }
   ],
   "source": [
    "'''Task 9.1'''\n",
    "class Restaurant():\n",
    "    def __init__(self, restaurant_name, cuisine_type):\n",
    "        self.restaurant_name= restaurant_name\n",
    "        self.cuisine_type = cuisine_type\n",
    "    def describe_restaurant(self):\n",
    "        print(\"Restauant name: \"+self.restaurant_name.title()+\" and cuisine type is \"+self.cuisine_type)\n",
    "        \n",
    "    def open_restaurant(self):\n",
    "        print(\"Indicating that the restaurant is open\")\n",
    "restaurant = Restaurant(\"Pizza Hat\",\"Flower them\")\n",
    "print(\"Print Name \"+restaurant.restaurant_name.title())\n",
    "print(\"print cuisine type \"+restaurant.cuisine_type.title())\n",
    "restaurant.describe_restaurant()\n",
    "restaurant.open_restaurant()\n",
    "\n",
    "''''''"
   ]
  },
  {
   "cell_type": "code",
   "execution_count": 6,
   "metadata": {
    "collapsed": false
   },
   "outputs": [
    {
     "name": "stdout",
     "output_type": "stream",
     "text": [
      "Restauant name: Pizza Hat and cuisine type is Flower\n",
      "Restauant name: Pizza Hat and cuisine type is Flower\n"
     ]
    }
   ],
   "source": [
    "'''Task 9.2'''\n",
    "restaurant1 = Restaurant(\"Pizza Hat\",\"Flower\")\n",
    "restaurant2 = Restaurant(\"Mac Donnar\",\" Under water theme\")\n",
    "restaurant1.describe_restaurant()\n",
    "restaurant1.describe_restaurant()"
   ]
  },
  {
   "cell_type": "code",
   "execution_count": 7,
   "metadata": {
    "collapsed": false
   },
   "outputs": [
    {
     "name": "stdout",
     "output_type": "stream",
     "text": [
      "My full Name is Muhammad Qasim\n",
      "Thank you from Muhammad Qasim.\n",
      "My full Name is Noman Islam\n",
      "Thank you from Noman Islam.\n"
     ]
    }
   ],
   "source": [
    "'''Task 9.3'''\n",
    "class User():\n",
    "    def __init__(self, first_name, last_name):\n",
    "        self.first_name = first_name\n",
    "        self.last_name = last_name\n",
    "    \n",
    "    def describe_user(self):\n",
    "        print(\"My full Name is \"+self.first_name.title()+\" \"+self.last_name.title())\n",
    "    \n",
    "    def greet_user(self):\n",
    "        print(\"Thank you from \"+self.first_name+\" \"+self.last_name+\".\")\n",
    "        \n",
    "p1 = User(\"Muhammad\",\"Qasim\")\n",
    "p2 = User(\"Noman\",\"Islam\")\n",
    "p1.describe_user()\n",
    "p1.greet_user()\n",
    "p2.describe_user()\n",
    "p2.greet_user()\n"
   ]
  },
  {
   "cell_type": "markdown",
   "metadata": {},
   "source": [
    "# The Car Class\n",
    "Let’s write a new class representing a car. Our class will store information\n",
    "about the kind of car we’re working with, and it will have a method that\n",
    "summarizes this information:"
   ]
  },
  {
   "cell_type": "code",
   "execution_count": 8,
   "metadata": {
    "collapsed": false
   },
   "outputs": [
    {
     "name": "stdout",
     "output_type": "stream",
     "text": [
      "2017 Audi A4\n"
     ]
    }
   ],
   "source": [
    "'''Listing 9.4'''\n",
    "class Car():\n",
    "    '''A simple attempt to represent a car'''\n",
    "    def __init__(self, make, model, year):\n",
    "        '''Intialize attributes to describe a car'''\n",
    "        self.make = make\n",
    "        self.model = model\n",
    "        self.year = year\n",
    "        \n",
    "    def get_descriptive_name(self):\n",
    "        '''Return a neatly formatted descriptive name.'''\n",
    "        long_name =str(self.year)+\" \"+self.make+\" \"+self.model\n",
    "        return long_name.title()\n",
    "    \n",
    "my_new_car = Car('audi','a4',2017)\n",
    "print(my_new_car.get_descriptive_name())"
   ]
  },
  {
   "cell_type": "code",
   "execution_count": 9,
   "metadata": {
    "collapsed": false
   },
   "outputs": [
    {
     "name": "stdout",
     "output_type": "stream",
     "text": [
      "2017 Audi A4\n",
      "This car has 0\n"
     ]
    }
   ],
   "source": [
    "class Car():\n",
    "    '''A simple attempt to represent a car'''\n",
    "    def __init__(self, make, model, year):\n",
    "        '''Intialize attributes to describe a car'''\n",
    "        self.make = make\n",
    "        self.model = model\n",
    "        self.year = year\n",
    "        self.odometer_reading = 0\n",
    "        \n",
    "    def get_descriptive_name(self):\n",
    "        '''Return a neatly formatted descriptive name.'''\n",
    "        long_name =str(self.year)+\" \"+self.make+\" \"+self.model\n",
    "        return long_name.title()\n",
    "    \n",
    "    def read_odometer(self):\n",
    "        '''Print a statment showin the car mileage'''\n",
    "        print(\"This car has \"+str(self.odometer_reading))\n",
    "    \n",
    "    def update_odometer(self, milage):\n",
    "        if milage >= self.odometer_reading:\n",
    "            self.odometer_reading=milage\n",
    "        else:\n",
    "            print(\"you can't roll back odometer\")\n",
    "            \n",
    "    def increment_odometer(self,miles):\n",
    "        self.odometer_reading+=miles\n",
    "        \n",
    "my_new_car = Car('audi','a4',2017)\n",
    "print(my_new_car.get_descriptive_name())\n",
    "my_new_car.read_odometer()"
   ]
  },
  {
   "cell_type": "code",
   "execution_count": 10,
   "metadata": {
    "collapsed": false
   },
   "outputs": [
    {
     "name": "stdout",
     "output_type": "stream",
     "text": [
      "This car has 300\n"
     ]
    }
   ],
   "source": [
    "my_new_car.odometer_reading = 300\n",
    "my_new_car.read_odometer()"
   ]
  },
  {
   "cell_type": "code",
   "execution_count": 11,
   "metadata": {
    "collapsed": false
   },
   "outputs": [
    {
     "name": "stdout",
     "output_type": "stream",
     "text": [
      "This car has 500\n"
     ]
    }
   ],
   "source": [
    "my_new_car.update_odometer(500)\n",
    "my_new_car.read_odometer()"
   ]
  },
  {
   "cell_type": "code",
   "execution_count": 12,
   "metadata": {
    "collapsed": false
   },
   "outputs": [
    {
     "name": "stdout",
     "output_type": "stream",
     "text": [
      "you can't roll back odometer\n"
     ]
    }
   ],
   "source": [
    "my_new_car.update_odometer(200)"
   ]
  },
  {
   "cell_type": "code",
   "execution_count": 13,
   "metadata": {
    "collapsed": false
   },
   "outputs": [
    {
     "name": "stdout",
     "output_type": "stream",
     "text": [
      "This car has 600\n"
     ]
    }
   ],
   "source": [
    "my_new_car.increment_odometer(100)\n",
    "my_new_car.read_odometer()"
   ]
  },
  {
   "cell_type": "markdown",
   "metadata": {},
   "source": [
    "# Try It Yourself\n",
    "9-4. Number Served: Start with your program from Exercise 9-1 (page 166).\n",
    "Add an attribute called number_served with a default value of 0. Create an\n",
    "instance called restaurant from this class. Print the number of customers the\n",
    "restaurant has served, and then change this value and print it again.\n",
    "Add a method called set_number_served() that lets you set the number\n",
    "of customers that have been served. Call this method with a new number and\n",
    "print the value again.\n",
    "Add a method called increment_number_served() that lets you increment\n",
    "the number of customers who’ve been served. Call this method with any number\n",
    "you like that could represent how many customers were served in, say, a\n",
    "day of business.\n",
    "9-5. Login Attempts: Add an attribute called login_attempts to your User\n",
    "class from Exercise 9-3 (page 166). Write a method called increment_\n",
    "login_attempts() that increments the value of login_attempts by 1. Write\n",
    "another method called reset_login_attempts() that resets the value of login_\n",
    "attempts to 0.\n",
    "Make an instance of the User class and call increment_login_attempts()\n",
    "several times. Print the value of login_attempts to make sure it was incremented\n",
    "properly, and then call reset_login_attempts(). Print login_attempts again to\n",
    "make sure it was reset to 0."
   ]
  },
  {
   "cell_type": "code",
   "execution_count": 14,
   "metadata": {
    "collapsed": false
   },
   "outputs": [
    {
     "name": "stdout",
     "output_type": "stream",
     "text": [
      "Number of served in our restaurant 0\n",
      "Number of served in our restaurant 200\n",
      "200\n",
      "300\n"
     ]
    }
   ],
   "source": [
    "'''2 Task 9.1'''\n",
    "class Restaurant():\n",
    "    def __init__(self, restaurant_name, cuisine_type):\n",
    "        self.restaurant_name= restaurant_name\n",
    "        self.cuisine_type = cuisine_type\n",
    "        self.number_served = 0\n",
    "    def describe_restaurant(self):\n",
    "        print(\"Restauant name: \"+self.restaurant_name.title()+\" and cuisine type is \"+self.cuisine_type)\n",
    "        \n",
    "    def open_restaurant(self):\n",
    "        print(\"Indicating that the restaurant is open\")\n",
    "        \n",
    "    def set_number_served(self,inc):\n",
    "        self.number_served += inc\n",
    "restaurant=Restaurant(\"Regent Pilaza\",\"Flower theme\")\n",
    "print(\"Number of served in our restaurant \"+str(restaurant.number_served))\n",
    "restaurant.number_served = 200\n",
    "print(\"Number of served in our restaurant \"+str(restaurant.number_served))\n",
    "print(str(restaurant.number_served))\n",
    "restaurant.set_number_served(100)\n",
    "print(str(restaurant.number_served))"
   ]
  },
  {
   "cell_type": "code",
   "execution_count": 15,
   "metadata": {
    "collapsed": false
   },
   "outputs": [
    {
     "name": "stdout",
     "output_type": "stream",
     "text": [
      "4\n",
      "0\n"
     ]
    }
   ],
   "source": [
    "'''Task 9.3'''\n",
    "class User():\n",
    "    def __init__(self, first_name, last_name):\n",
    "        self.first_name = first_name\n",
    "        self.last_name = last_name\n",
    "        self.login_attemps = 0\n",
    "    \n",
    "    def describe_user(self):\n",
    "        print(\"My full Name is \"+self.first_name.title()+\" \"+self.last_name.title())\n",
    "    \n",
    "    def greet_user(self):\n",
    "        print(\"Thank you from \"+self.first_name+\" \"+self.last_name+\".\")\n",
    "        \n",
    "    def increment_login_attempts(self):\n",
    "        self.login_attemps +=1\n",
    "        \n",
    "    def reset_login_attemps(self):\n",
    "        self.login_attemps = 0\n",
    "        \n",
    "person1 = User(\"Muhammad\",\"Qasim\")\n",
    "person1.increment_login_attempts()\n",
    "person1.increment_login_attempts()\n",
    "person1.increment_login_attempts()\n",
    "person1.increment_login_attempts()\n",
    "print(person1.login_attemps)\n",
    "person1.reset_login_attemps()\n",
    "print(person1.login_attemps)"
   ]
  },
  {
   "cell_type": "markdown",
   "metadata": {},
   "source": [
    "# Inheritance "
   ]
  },
  {
   "cell_type": "code",
   "execution_count": 16,
   "metadata": {
    "collapsed": true
   },
   "outputs": [],
   "source": [
    "class Car():\n",
    "    '''A simple attempt to represent a car'''\n",
    "    def __init__(self, make, model, year):\n",
    "        '''Intialize attributes to describe a car'''\n",
    "        self.make = make\n",
    "        self.model = model\n",
    "        self.year = year\n",
    "        self.odometer_reading = 0\n",
    "        \n",
    "    def get_descriptive_name(self):\n",
    "        '''Return a neatly formatted descriptive name.'''\n",
    "        long_name =str(self.year)+\" \"+self.make+\" \"+self.model\n",
    "        return long_name.title()\n",
    "    \n",
    "    def read_odometer(self):\n",
    "        '''Print a statment showin the car mileage'''\n",
    "        print(\"This car has \"+str(self.odometer_reading))\n",
    "    \n",
    "    def update_odometer(self, milage):\n",
    "        if milage >= self.odometer_reading:\n",
    "            self.odometer_reading=milage\n",
    "        else:\n",
    "            print(\"you can't roll back odometer\")\n",
    "            \n",
    "    def increment_odometer(self,miles):\n",
    "        self.odometer_reading+=miles\n",
    "    \n",
    "    def fill_gas_tank(self):\n",
    "        print(\"You can fill\")"
   ]
  },
  {
   "cell_type": "code",
   "execution_count": 17,
   "metadata": {
    "collapsed": true
   },
   "outputs": [],
   "source": [
    "class ElectricCar(Car):\n",
    "    def __init__(self,make,model,year):\n",
    "        super().__init__(make, model, year)\n",
    "        self.battery_size = 70\n",
    "        \n",
    "    def describe_battery(self):\n",
    "        print(\"This car has a \"+str(self.battery_size)+\"Kwh battery.\")\n",
    "    \n",
    "    def fill_gas_tank(self):\n",
    "        print(\"This Car doesn't need gas tank!\")"
   ]
  },
  {
   "cell_type": "code",
   "execution_count": 18,
   "metadata": {
    "collapsed": false
   },
   "outputs": [
    {
     "name": "stdout",
     "output_type": "stream",
     "text": [
      "2017 Testla Models \n"
     ]
    }
   ],
   "source": [
    "my_testla=ElectricCar('testla','models ',2017)\n",
    "print(my_testla.get_descriptive_name())"
   ]
  },
  {
   "cell_type": "code",
   "execution_count": 19,
   "metadata": {
    "collapsed": false
   },
   "outputs": [
    {
     "name": "stdout",
     "output_type": "stream",
     "text": [
      "This car has a 70Kwh battery.\n"
     ]
    }
   ],
   "source": [
    "my_testla.describe_battery()"
   ]
  },
  {
   "cell_type": "code",
   "execution_count": 20,
   "metadata": {
    "collapsed": false
   },
   "outputs": [
    {
     "name": "stdout",
     "output_type": "stream",
     "text": [
      "This Car doesn't need gas tank!\n"
     ]
    }
   ],
   "source": [
    "my_testla.fill_gas_tank()"
   ]
  },
  {
   "cell_type": "code",
   "execution_count": 21,
   "metadata": {
    "collapsed": true
   },
   "outputs": [],
   "source": [
    "class Battery():\n",
    "    def __init__(self, battery_size=70):\n",
    "        self.battery_size = battery_size\n",
    "    def describe_battery(self):\n",
    "        print(\"This Car has a \"+str(self.battery_size)+\" -kwh battery. \")\n",
    "        \n",
    "    def get_range(self):\n",
    "        if self.battery_size == 70:\n",
    "            range = 240\n",
    "        elif self.battery_size == 85:\n",
    "            range = 270\n",
    "        message =\"This car can go approximately \"+str(range)\n",
    "        message += \"miles on a full charge.\"\n",
    "        print(message)\n",
    "            "
   ]
  },
  {
   "cell_type": "code",
   "execution_count": 22,
   "metadata": {
    "collapsed": true
   },
   "outputs": [],
   "source": [
    "class ElectricCar(Car):\n",
    "    def __init__(self,make,model,year):\n",
    "        super().__init__(make, model, year)\n",
    "        #self.battery_size = 70\n",
    "        self.battery = Battery()\n",
    "    \n",
    "    def fill_gas_tank(self):\n",
    "        print(\"This Car doesn't need gas tank!\")"
   ]
  },
  {
   "cell_type": "code",
   "execution_count": 23,
   "metadata": {
    "collapsed": false
   },
   "outputs": [
    {
     "name": "stdout",
     "output_type": "stream",
     "text": [
      "2017 Testla Model S\n",
      "This Car has a 70 -kwh battery. \n",
      "This car can go approximately 240miles on a full charge.\n"
     ]
    }
   ],
   "source": [
    "my_testla = ElectricCar('testla','model s', 2017)\n",
    "print(my_testla.get_descriptive_name())\n",
    "my_testla.battery.describe_battery()\n",
    "my_testla.battery.get_range()"
   ]
  },
  {
   "cell_type": "code",
   "execution_count": 24,
   "metadata": {
    "collapsed": false
   },
   "outputs": [
    {
     "name": "stdout",
     "output_type": "stream",
     "text": [
      "['abc', 'zy', 'pak']\n"
     ]
    }
   ],
   "source": [
    "def abc(*a):\n",
    "    print(list(a))\n",
    "abc('abc','zy','pak')"
   ]
  },
  {
   "cell_type": "code",
   "execution_count": 25,
   "metadata": {
    "collapsed": false
   },
   "outputs": [
    {
     "name": "stdout",
     "output_type": "stream",
     "text": [
      "91\n",
      "182\n",
      "273\n",
      "364\n"
     ]
    }
   ],
   "source": [
    "def gen():\n",
    "    for i in range(1,10000):\n",
    "        if i%7 == 0 and i%13 ==0:\n",
    "            yield i\n",
    "\n",
    "f=gen()\n",
    "print(next(f))\n",
    "print(next(f))\n",
    "print(next(f))\n",
    "print(next(f))"
   ]
  },
  {
   "cell_type": "code",
   "execution_count": null,
   "metadata": {
    "collapsed": true
   },
   "outputs": [],
   "source": []
  }
 ],
 "metadata": {
  "kernelspec": {
   "display_name": "Python 3",
   "language": "python",
   "name": "python3"
  },
  "language_info": {
   "codemirror_mode": {
    "name": "ipython",
    "version": 3
   },
   "file_extension": ".py",
   "mimetype": "text/x-python",
   "name": "python",
   "nbconvert_exporter": "python",
   "pygments_lexer": "ipython3",
   "version": "3.6.0"
  }
 },
 "nbformat": 4,
 "nbformat_minor": 2
}
